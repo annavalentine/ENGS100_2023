{
 "cells": [
  {
   "cell_type": "code",
   "execution_count": 25,
   "id": "f135e9cc",
   "metadata": {},
   "outputs": [],
   "source": [
    "import numpy as np\n",
    "import sympy as sp\n",
    "import matplotlib.pyplot as plt"
   ]
  },
  {
   "cell_type": "code",
   "execution_count": 6,
   "id": "1b6b13a9",
   "metadata": {},
   "outputs": [
    {
     "data": {
      "text/latex": [
       "$\\displaystyle \\cos{\\left(t w \\right)} \\theta\\left(t\\right)$"
      ],
      "text/plain": [
       "cos(t*w)*Heaviside(t)"
      ]
     },
     "execution_count": 6,
     "metadata": {},
     "output_type": "execute_result"
    }
   ],
   "source": [
    "### Example\n",
    "s, t = sp.symbols('s, t')\n",
    "w = sp.symbols('w', real = True)\n",
    "expression = s/(s**2+w**2)\n",
    "\n",
    "sp.inverse_laplace_transform(expression, s, t)"
   ]
  },
  {
   "cell_type": "code",
   "execution_count": 13,
   "id": "c21e127f",
   "metadata": {},
   "outputs": [
    {
     "data": {
      "text/latex": [
       "$\\displaystyle \\mathcal{L}^{-1}_{s}\\left[e^{- x \\sqrt{\\frac{s}{K}}}\\right]\\left(x\\right)$"
      ],
      "text/plain": [
       "InverseLaplaceTransform(exp(-x*sqrt(s/K)), s, x, _None)"
      ]
     },
     "execution_count": 13,
     "metadata": {},
     "output_type": "execute_result"
    }
   ],
   "source": [
    "### SIMPLE VERSION OF MY PROBLEM: \n",
    "s, x = sp.symbols('s, x')\n",
    "T_l = sp.symbols('T_l', real = True)\n",
    "T_0 = sp.symbols('T_0', real = True)\n",
    "K   = sp.symbols('K', real = True)\n",
    "\n",
    "expression = sp.exp(-sp.sqrt(s/K)*x)\n",
    "\n",
    "sp.inverse_laplace_transform(expression, s, x)"
   ]
  },
  {
   "cell_type": "code",
   "execution_count": 17,
   "id": "0d2cad42",
   "metadata": {},
   "outputs": [
    {
     "data": {
      "text/latex": [
       "$\\displaystyle - T_{0} \\mathcal{L}^{-1}_{s}\\left[\\frac{e^{- x \\sqrt{\\frac{s}{K}}}}{s}\\right]\\left(t\\right) + T_{0} \\theta\\left(t\\right) + T_{l} \\mathcal{L}^{-1}_{s}\\left[e^{- x \\sqrt{\\frac{s}{K}}}\\right]\\left(t\\right)$"
      ],
      "text/plain": [
       "-T_0*InverseLaplaceTransform(exp(-x*sqrt(s/K))/s, s, t, _None) + T_0*Heaviside(t) + T_l*InverseLaplaceTransform(exp(-x*sqrt(s/K)), s, t, _None)"
      ]
     },
     "execution_count": 17,
     "metadata": {},
     "output_type": "execute_result"
    }
   ],
   "source": [
    "### okay let's try a simplified version??\n",
    "s, x = sp.symbols('s, x')\n",
    "T_l = sp.symbols('T_l', real = True)\n",
    "T_0 = sp.symbols('T_0', real = True)\n",
    "K   = sp.symbols('K', real = True)\n",
    "\n",
    "expression = (T_l - (T_0/s))*sp.exp(-sp.sqrt(s/K)*x) + (T_0/s)\n",
    "\n",
    "sp.inverse_laplace_transform(expression, s, t)"
   ]
  },
  {
   "cell_type": "markdown",
   "id": "ab0a4e87",
   "metadata": {},
   "source": [
    "## 2 What a character"
   ]
  },
  {
   "cell_type": "code",
   "execution_count": 103,
   "id": "7139d364",
   "metadata": {},
   "outputs": [],
   "source": [
    "def beam_pde(x,t): \n",
    "    term1 = ((x**-2)+ 2*t)**-1\n",
    "    return 1/(1+term1)"
   ]
  },
  {
   "cell_type": "code",
   "execution_count": 104,
   "id": "a6465a92",
   "metadata": {},
   "outputs": [],
   "source": [
    "#### Parameters & Meshgrid Set-Up \n",
    "xl, xr = 0, 5  ### x left and x right\n",
    "tl, tr = 0, 5  ### t left and t right\n",
    "\n",
    "#### Set up space for meshgrid with table\n",
    "xx = np.linspace(xl, xr,50)\n",
    "tt = np.linspace(tl,tr,50)\n",
    "\n",
    "## intialize meshgrid (our 3D space)\n",
    "xxx, ttt = np.meshgrid(xx, tt, sparse=False)"
   ]
  },
  {
   "cell_type": "code",
   "execution_count": 105,
   "id": "2b681a9a",
   "metadata": {},
   "outputs": [
    {
     "name": "stderr",
     "output_type": "stream",
     "text": [
      "C:\\Users\\annav\\AppData\\Local\\Temp\\ipykernel_10272\\1108215517.py:2: RuntimeWarning: divide by zero encountered in power\n",
      "  term1 = ((x**-2)+ 2*t)**-1\n"
     ]
    }
   ],
   "source": [
    "## solve for solution\n",
    "soln = beam_pde(xxx, ttt)"
   ]
  },
  {
   "cell_type": "code",
   "execution_count": 106,
   "id": "8dd85fda",
   "metadata": {},
   "outputs": [
    {
     "name": "stdout",
     "output_type": "stream",
     "text": [
      "[[1.         0.98969497 0.96001599 ... 0.04166522 0.040016   0.03846154]\n",
      " [1.         0.9897166  0.96033962 ... 0.19843427 0.19728081 0.19619423]\n",
      " [1.         0.98973813 0.96065805 ... 0.31112395 0.31027219 0.30947012]\n",
      " ...\n",
      " [1.         0.99062194 0.9710998  ... 0.90597362 0.90595777 0.90594287]\n",
      " [1.         0.99063985 0.97126925 ... 0.90774393 0.90772867 0.90771433]\n",
      " [1.         0.9906577  0.97143673 ... 0.90944881 0.9094341  0.90942029]]\n"
     ]
    }
   ],
   "source": [
    "## let's check that we have a numerical soln \n",
    "print(soln)"
   ]
  },
  {
   "cell_type": "code",
   "execution_count": 107,
   "id": "b7512b02",
   "metadata": {
    "scrolled": false
   },
   "outputs": [
    {
     "data": {
      "text/plain": [
       "<matplotlib.colorbar.Colorbar at 0x298286e5970>"
      ]
     },
     "execution_count": 107,
     "metadata": {},
     "output_type": "execute_result"
    },
    {
     "data": {
      "image/png": "[encoded data removed]",
      "text/plain": [
       "<Figure size 640x480 with 2 Axes>"
      ]
     },
     "metadata": {},
     "output_type": "display_data"
    }
   ],
   "source": [
    "### plot in 2D\n",
    "plt.imshow(soln,cmap='jet')\n",
    "plt.xlabel(\"position (x)\")\n",
    "plt.ylabel(\"time(t)\")\n",
    "plt.title(\"What a character: space-time plot\")\n",
    "plt.colorbar()"
   ]
  },
  {
   "cell_type": "markdown",
   "id": "bc7878ec",
   "metadata": {},
   "source": [
    "## Problem 3"
   ]
  },
  {
   "cell_type": "code",
   "execution_count": 232,
   "id": "049c73b1",
   "metadata": {},
   "outputs": [],
   "source": [
    "import numpy as np\n",
    "import scipy as sp"
   ]
  },
  {
   "cell_type": "code",
   "execution_count": 233,
   "id": "e7623c23",
   "metadata": {},
   "outputs": [],
   "source": [
    "def thermal_pde(x, t, L, K, T_0): \n",
    "    term1 = L*x*np.exp((-x**2)/(4*k*t))\n",
    "    term2 = 2*np.sqrt(np.pi)*np.sqrt(K)*(t**(3/2))\n",
    "    return (term1/term2) + T_0"
   ]
  },
  {
   "cell_type": "code",
   "execution_count": 250,
   "id": "653ffbd5",
   "metadata": {},
   "outputs": [],
   "source": [
    "def thermal_pde2(x, t, L, K, T_0): \n",
    "    term1 = -sp.special.erfc(x/(x*(np.sqrt(K*t))))\n",
    "    term2 = L*x*np.exp((-x**2)/(4*k*t))\n",
    "    term3 = 2*np.sqrt(np.pi)*np.sqrt(K)*(t**(3/2))\n",
    "    return T_0*term1+(term2/term3) + T_0"
   ]
  },
  {
   "cell_type": "code",
   "execution_count": 251,
   "id": "a2a50890",
   "metadata": {},
   "outputs": [],
   "source": [
    "#### Parameters & Meshgrid Set-Up \n",
    "xl, xr = 0.001, 10  ### x left and x right\n",
    "tl, tr = 0.001, 15  ### t left and t right\n",
    "\n",
    "#### Set up space for meshgrid with table\n",
    "xx = np.linspace(xl, xr,50)\n",
    "tt = np.linspace(tl,tr,50)\n",
    "\n",
    "## intialize meshgrid (our 3D space)\n",
    "xxx, ttt = np.meshgrid(xx, tt, sparse=False)"
   ]
  },
  {
   "cell_type": "code",
   "execution_count": 252,
   "id": "db0419b5",
   "metadata": {},
   "outputs": [],
   "source": [
    "## solve for solution\n",
    "L = 10\n",
    "T_0 = 280\n",
    "K = 0.1\n",
    "soln = thermal_pde2(xxx, ttt, L, K, T_0)"
   ]
  },
  {
   "cell_type": "code",
   "execution_count": 253,
   "id": "6a09222a",
   "metadata": {
    "scrolled": false
   },
   "outputs": [
    {
     "data": {
      "text/plain": [
       "<matplotlib.colorbar.Colorbar at 0x2982decd2b0>"
      ]
     },
     "execution_count": 253,
     "metadata": {},
     "output_type": "execute_result"
    },
    {
     "data": {
      "image/png": "[encoded data removed]",
      "text/plain": [
       "<Figure size 640x480 with 2 Axes>"
      ]
     },
     "metadata": {},
     "output_type": "display_data"
    }
   ],
   "source": [
    "### plot in 2D\n",
    "plt.imshow(soln,cmap='jet')\n",
    "plt.xlabel(\"position (x)\")\n",
    "plt.ylabel(\"time(t)\")\n",
    "plt.title(\"Thermal Beam: Analytical\")\n",
    "plt.colorbar()"
   ]
  },
  {
   "cell_type": "code",
   "execution_count": 213,
   "id": "64113baa",
   "metadata": {},
   "outputs": [],
   "source": [
    "#### I could plot at t = 5\n",
    "## solve for solution\n",
    "L = 10\n",
    "T_0 = 220\n",
    "K = 0.1\n",
    "t5_soln = thermal_pde(xx, 5, L, K, T_0)\n"
   ]
  },
  {
   "cell_type": "code",
   "execution_count": 225,
   "id": "eb4f7c56",
   "metadata": {
    "scrolled": false
   },
   "outputs": [
    {
     "data": {
      "text/plain": [
       "Text(0.5, 1.0, 'Thermal Beam T - T_0 at t = 5')"
      ]
     },
     "execution_count": 225,
     "metadata": {},
     "output_type": "execute_result"
    },
    {
     "data": {
      "image/png": "[encoded data removed]",
      "text/plain": [
       "<Figure size 640x480 with 1 Axes>"
      ]
     },
     "metadata": {},
     "output_type": "display_data"
    }
   ],
   "source": [
    "plt.plot(t5_soln)\n",
    "plt.title(\"Thermal Beam T - T_0 at t = 5\")\n",
    "plt.ylabel(\"Temperature\")\n",
    "plt.xlabel(\"\")"
   ]
  },
  {
   "cell_type": "code",
   "execution_count": 177,
   "id": "adb482ae",
   "metadata": {},
   "outputs": [],
   "source": [
    "def thermal_pde2(x, t, L, K, T_0): \n",
    "    term1 = L*x*np.exp((-x**2)/(4*K*t))\n",
    "    term2 = 2*np.sqrt(np.pi)*np.sqrt(K)*(t**(3/2))\n",
    "    return (term1/term2) "
   ]
  },
  {
   "cell_type": "code",
   "execution_count": 178,
   "id": "c265d623",
   "metadata": {},
   "outputs": [],
   "source": [
    "#### Parameters & Meshgrid Set-Up \n",
    "xl, xr = 0, 10  ### x left and x right\n",
    "tl, tr = 10**-14, 10**-1  ### t left and t right\n",
    "\n",
    "#### Set up space for meshgrid with table\n",
    "tt = np.linspace(tl,tr,50)\n",
    "\n",
    "## intialize meshgrid (our 3D space)\n",
    "#xxx, ttt = np.meshgrid(xx, tt, sparse=False)"
   ]
  },
  {
   "cell_type": "code",
   "execution_count": 179,
   "id": "672021ac",
   "metadata": {},
   "outputs": [],
   "source": [
    "## Analytical of T - T_0 at end point: \n",
    "## solve for solution\n",
    "L = 10\n",
    "T_0 = 220\n",
    "K = 0.1\n",
    "x = 10\n",
    "t = thermal_pde2(x, tt, L, K, T_0)"
   ]
  },
  {
   "cell_type": "code",
   "execution_count": 180,
   "id": "60b5c2ce",
   "metadata": {},
   "outputs": [
    {
     "name": "stdout",
     "output_type": "stream",
     "text": [
      "[0. 0. 0. 0. 0. 0. 0. 0. 0. 0. 0. 0. 0. 0. 0. 0. 0. 0. 0. 0. 0. 0. 0. 0.\n",
      " 0. 0. 0. 0. 0. 0. 0. 0. 0. 0. 0. 0. 0. 0. 0. 0. 0. 0. 0. 0. 0. 0. 0. 0.\n",
      " 0. 0.]\n"
     ]
    }
   ],
   "source": [
    "print(t)"
   ]
  },
  {
   "cell_type": "code",
   "execution_count": 229,
   "id": "eb161812",
   "metadata": {},
   "outputs": [
    {
     "name": "stderr",
     "output_type": "stream",
     "text": [
      "C:\\Users\\annav\\AppData\\Local\\Temp\\ipykernel_10272\\1773895146.py:7: UserWarning: Data has no positive values, and therefore cannot be log-scaled.\n",
      "  ax.set_yscale('log')\n"
     ]
    },
    {
     "data": {
      "text/plain": [
       "Text(0.5, 1.0, 'No solution :(')"
      ]
     },
     "execution_count": 229,
     "metadata": {},
     "output_type": "execute_result"
    },
    {
     "data": {
      "image/png": "[encoded data removed]",
      "text/plain": [
       "<Figure size 640x480 with 1 Axes>"
      ]
     },
     "metadata": {},
     "output_type": "display_data"
    }
   ],
   "source": [
    "### No solution\n",
    "fig = plt.figure()\n",
    "ax = fig.add_subplot(2, 1, 1)\n",
    "\n",
    "line = ax.plot(t)\n",
    "\n",
    "ax.set_yscale('log')\n",
    "ax.set_xscale('log')\n",
    "ax.set_title(\"No solution :(\")"
   ]
  },
  {
   "cell_type": "code",
   "execution_count": null,
   "id": "afe32fe0",
   "metadata": {},
   "outputs": [],
   "source": []
  },
  {
   "cell_type": "code",
   "execution_count": null,
   "id": "d6b83e80",
   "metadata": {},
   "outputs": [],
   "source": []
  }
 ],
 "metadata": {
  "kernelspec": {
   "display_name": "Python 3 (ipykernel)",
   "language": "python",
   "name": "python3"
  },
  "language_info": {
   "codemirror_mode": {
    "name": "ipython",
    "version": 3
   },
   "file_extension": ".py",
   "mimetype": "text/x-python",
   "name": "python",
   "nbconvert_exporter": "python",
   "pygments_lexer": "ipython3",
   "version": "3.8.12"
  }
 },
 "nbformat": 4,
 "nbformat_minor": 5
}
